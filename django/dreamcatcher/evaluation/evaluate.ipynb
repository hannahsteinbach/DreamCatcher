{
 "cells": [
  {
   "cell_type": "code",
   "execution_count": 10,
   "metadata": {},
   "outputs": [
    {
     "name": "stdout",
     "output_type": "stream",
     "text": [
      "Total TP: 182\n",
      "Total FP: 70\n",
      "Total FN: 211\n",
      "Precision: 0.722\n",
      "Recall: 0.463\n",
      "F1 Score: 0.564\n"
     ]
    }
   ],
   "source": [
    "import json\n",
    "\n",
    "with open('evaluation_characters_locations_zeroshot_llama.json', 'r') as file:\n",
    "    data = json.load(file)\n",
    "\n",
    "total_tp = 0\n",
    "total_fp = 0\n",
    "total_fn = 0\n",
    "\n",
    "characters_data = data.get(\"Characters\", {})\n",
    "details = characters_data.get(\"Details\", [])\n",
    "\n",
    "for dream in details:\n",
    "    total_tp += dream.get(\"TP_count\", 0)\n",
    "    total_fp += dream.get(\"FP_count\", 0)\n",
    "    total_fn += dream.get(\"FN_count\", 0)\n",
    "\n",
    "precision = total_tp / (total_tp + total_fp) if (total_tp + total_fp) > 0 else 0\n",
    "recall = total_tp / (total_tp + total_fn) if (total_tp + total_fn) > 0 else 0\n",
    "f1_score = (2 * precision * recall) / (precision + recall) if (precision + recall) > 0 else 0\n",
    "\n",
    "print(f\"Total TP: {total_tp}\")\n",
    "print(f\"Total FP: {total_fp}\")\n",
    "print(f\"Total FN: {total_fn}\")\n",
    "print(f\"Precision: {precision:.3f}\")\n",
    "print(f\"Recall: {recall:.3f}\")\n",
    "print(f\"F1 Score: {f1_score:.3f}\")"
   ]
  },
  {
   "cell_type": "code",
   "execution_count": 11,
   "metadata": {},
   "outputs": [
    {
     "name": "stdout",
     "output_type": "stream",
     "text": [
      "Total TP: 187\n",
      "Total FP: 59\n",
      "Total FN: 205\n",
      "Precision: 0.760\n",
      "Recall: 0.477\n",
      "F1 Score: 0.586\n"
     ]
    }
   ],
   "source": [
    "with open('evaluation_characters_locations_multishot3_llama.json', 'r') as file:\n",
    "    data = json.load(file)\n",
    "\n",
    "total_tp = 0\n",
    "total_fp = 0\n",
    "total_fn = 0\n",
    "\n",
    "characters_data = data.get(\"Characters\", {})\n",
    "details = characters_data.get(\"Details\", [])\n",
    "\n",
    "for dream in details:\n",
    "    total_tp += dream.get(\"TP_count\", 0)\n",
    "    total_fp += dream.get(\"FP_count\", 0)\n",
    "    total_fn += dream.get(\"FN_count\", 0)\n",
    "\n",
    "precision = total_tp / (total_tp + total_fp) if (total_tp + total_fp) > 0 else 0\n",
    "recall = total_tp / (total_tp + total_fn) if (total_tp + total_fn) > 0 else 0\n",
    "f1_score = (2 * precision * recall) / (precision + recall) if (precision + recall) > 0 else 0\n",
    "\n",
    "print(f\"Total TP: {total_tp}\")\n",
    "print(f\"Total FP: {total_fp}\")\n",
    "print(f\"Total FN: {total_fn}\")\n",
    "print(f\"Precision: {precision:.3f}\")\n",
    "print(f\"Recall: {recall:.3f}\")\n",
    "print(f\"F1 Score: {f1_score:.3f}\")"
   ]
  }
 ],
 "metadata": {
  "kernelspec": {
   "display_name": "pllm",
   "language": "python",
   "name": "python3"
  },
  "language_info": {
   "codemirror_mode": {
    "name": "ipython",
    "version": 3
   },
   "file_extension": ".py",
   "mimetype": "text/x-python",
   "name": "python",
   "nbconvert_exporter": "python",
   "pygments_lexer": "ipython3",
   "version": "3.12.2"
  }
 },
 "nbformat": 4,
 "nbformat_minor": 2
}
